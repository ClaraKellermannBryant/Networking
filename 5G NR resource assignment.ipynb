{
 "cells": [
  {
   "cell_type": "code",
   "execution_count": null,
   "metadata": {},
   "outputs": [],
   "source": [
    "# 5G resource assignment for time domain\n",
    "# This is an example of 5G NR uplink assignment to flexibly allocate physical resources.\n",
    "# PUSCH and DMRS mapping is included \n"
   ]
  },
  {
   "cell_type": "code",
   "execution_count": null,
   "metadata": {},
   "outputs": [],
   "source": [
    "# Declaring values that depend on DCI and SCS\n",
    "frequency = input()\n",
    "precoding = input()\n",
    "pusch = input()\n",
    "dmrs = input()\n",
    "sliv = input()\n",
    "n = input() # DCI info here \n",
    "mew = input() # subcarrier info here"
   ]
  },
  {
   "cell_type": "code",
   "execution_count": null,
   "metadata": {},
   "outputs": [],
   "source": [
    "# Enter the declared values for the uplink resource assignment\n",
    "print(\"Enter frequency here: \", frequency, input())\n",
    "print(\"Enter precoding values here: \", precoding, input())\n",
    "print(\"Enter value for PUSCH here: \", pusch, input())\n",
    "print(\"Enter value for DMRS here: \", dmrs, input())\n",
    "print(\"Enter value for SLIV here: \", sliv, input())\n",
    "print(\"Enter DCI information here: \", n, input())\n",
    "print(\"Enter subcarrier information here: \", mew, input())\n"
   ]
  },
  {
   "cell_type": "code",
   "execution_count": null,
   "metadata": {},
   "outputs": [],
   "source": [
    "# Begin generating list\n",
    "\n",
    "k2 = [0, 1, 2, 3, 4, 5, 6, 7, 8, 9, 10, 11, 12, 13, 14, 15, 16, 17, 18, 19, 20, 21, 22, 23, 24, 25, 26, 27, 28, 29, 30, 31, 32]\n",
    "pusch_allocation_list = [\"row 1\", \"row 2\", \"row 3\", \"row 4\", \"row 5\", \"row n\"]\n",
    "\n",
    "for i, j, k in zip(k2, sliv, pusch_allocation_list[::1]):\n",
    "    print(i, j, k)"
   ]
  },
  {
   "cell_type": "code",
   "execution_count": null,
   "metadata": {},
   "outputs": [],
   "source": [
    "# Type mapping\n",
    "\n",
    "if frequency == 0:\n",
    "    pusch = 0 # becomes downlink\n",
    "    dmrs = 0\n",
    "\n",
    "if frequency == 32:\n",
    "    pusch = 1\n",
    "    dmrs = 1\n",
    "\n",
    "if precoding == 0:\n",
    "    print(\"Error: type 0 not allowed for activated transform precoding\")\n",
    "else:\n",
    "    print(\"Schedule UE resource blocks\")\n",
    "    print(\"Initialize UE schedule. Type y/n.\", input())\n",
    "\n"
   ]
  },
  {
   "cell_type": "code",
   "execution_count": null,
   "metadata": {},
   "outputs": [],
   "source": [
    "# PUSCH slot offset with subcarrier spacing\n",
    "\n",
    "offset = n * (2^(mew*pusch)/2^(mew*pusch))\n",
    "slot = offset + k2\n",
    "print(slot)"
   ]
  }
 ],
 "metadata": {
  "language_info": {
   "name": "python"
  },
  "orig_nbformat": 4
 },
 "nbformat": 4,
 "nbformat_minor": 2
}
